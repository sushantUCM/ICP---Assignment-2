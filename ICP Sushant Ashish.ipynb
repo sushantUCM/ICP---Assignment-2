{
 "cells": [
  {
   "attachments": {
    "image.png": {
     "image/png": "[encoded data removed]"
    }
   },
   "cell_type": "markdown",
   "id": "05190164",
   "metadata": {},
   "source": [
    "1.  Use a python code to display the following star pattern using the for loop\n",
    "\n",
    "![image.png](attachment:image.png)"
   ]
  },
  {
   "cell_type": "code",
   "execution_count": 20,
   "id": "09a7155c",
   "metadata": {},
   "outputs": [
    {
     "name": "stdout",
     "output_type": "stream",
     "text": [
      "*\n",
      "**\n",
      "***\n",
      "****\n",
      "*****\n",
      "****\n",
      "***\n",
      "**\n",
      "*\n"
     ]
    }
   ],
   "source": [
    "#Running for loop for incrementing\n",
    "for i in range(1,6,1):\n",
    "    print('*'*i)\n",
    "    #Once i=5, start decrementing and print\n",
    "    if i==5:\n",
    "        for i in range(4,0,-1):\n",
    "            print('*'*i)"
   ]
  },
  {
   "cell_type": "markdown",
   "id": "701a0cff",
   "metadata": {},
   "source": [
    "2. Use looping to output the elements from a provided list present at odd indexes.\n",
    "`my_list = [10, 20, 30, 40, 50, 60, 70, 80, 90, 100]`"
   ]
  },
  {
   "cell_type": "code",
   "execution_count": 3,
   "id": "94fd9c01",
   "metadata": {},
   "outputs": [
    {
     "name": "stdout",
     "output_type": "stream",
     "text": [
      "[20, 40, 60, 80, 100]\n"
     ]
    }
   ],
   "source": [
    "my_list = [10, 20, 30, 40, 50, 60, 70, 80, 90, 100]\n",
    "new_list = []\n",
    "\n",
    "#Check if index is not divisible by 2 then append the values of those indexes\n",
    "for i in range(len(my_list)):\n",
    "    if i%2 != 0:\n",
    "        new_list.append(my_list[i])\n",
    "print(new_list)"
   ]
  },
  {
   "cell_type": "markdown",
   "id": "ea2aa3c9",
   "metadata": {},
   "source": [
    "3. Write a code that appends the type of elements from a given list.\n",
    "Input\n",
    " `x = [23, ‘Python’, 23.98]`\n",
    " Expected output\n",
    " `[23, 'Python', 23.98]`\n",
    " `[<class 'int'>, <class 'str'>, <class 'float'>]`"
   ]
  },
  {
   "cell_type": "code",
   "execution_count": 7,
   "id": "120e898d",
   "metadata": {},
   "outputs": [
    {
     "name": "stdout",
     "output_type": "stream",
     "text": [
      "[23, 'Python', 23.98]\n",
      "[<class 'int'>, <class 'str'>, <class 'float'>]\n"
     ]
    }
   ],
   "source": [
    "x = [23, 'Python', 23.98]\n",
    "new_x = []\n",
    "\n",
    "#Using for loop, find type of each element then append in new list\n",
    "for i in x:\n",
    "    new_x.append(type(i))\n",
    "print(x)\n",
    "print(new_x)"
   ]
  },
  {
   "cell_type": "markdown",
   "id": "6d0d3dfe",
   "metadata": {},
   "source": [
    "4. Write a function that takes a list and returns a new list with unique items of the first list.<br>\n",
    "`Sample List: [1,2,3,3,3,3,4,5]`<br>\n",
    "`Unique List: [1, 2, 3, 4, 5]`\n"
   ]
  },
  {
   "cell_type": "code",
   "execution_count": 9,
   "id": "81f0f51e",
   "metadata": {},
   "outputs": [
    {
     "name": "stdout",
     "output_type": "stream",
     "text": [
      "[1, 2, 3, 3, 3, 3, 4, 5]\n",
      "[1, 2, 3, 4, 5]\n"
     ]
    }
   ],
   "source": [
    "sample_list = [1,2,3,3,3,3,4,5]\n",
    "\n",
    "#By converting list to set, duplicate values are eliminated, then converted back to list again\n",
    "unique_set = set(sample_list)\n",
    "unique_list = list(unique_set)\n",
    "\n",
    "print(sample_list)\n",
    "print(unique_list)"
   ]
  },
  {
   "cell_type": "markdown",
   "id": "d028a153",
   "metadata": {},
   "source": [
    "5. Write a function that accepts a string and calculate the number of upper-case letters and lower-case\n",
    "letters.<br>\n",
    "`Input String: 'The quick Brow Fox'`<br>\n",
    "Expected Output:<br>\n",
    "No. of Upper-case characters: 3<br>\n",
    "No. of Lower-case Characters: 12"
   ]
  },
  {
   "cell_type": "code",
   "execution_count": 19,
   "id": "db41a718",
   "metadata": {},
   "outputs": [
    {
     "name": "stdout",
     "output_type": "stream",
     "text": [
      "The quick Brow Fox\n",
      "No. of Upper-case characters:  3\n",
      "No. of Lower-case Characters:  12\n"
     ]
    }
   ],
   "source": [
    "input_string = \"The quick Brow Fox\"\n",
    "upper_count = 0\n",
    "lower_count = 0\n",
    "\n",
    "#Using isupper() and islower() function we can iterate through the sentence and update the count of upper \n",
    "#and lower case characters\n",
    "\n",
    "for i in input_string:\n",
    "    if(i.islower()):\n",
    "        lower_count += 1\n",
    "    elif(i.isupper()):\n",
    "        upper_count += 1\n",
    "\n",
    "print('No. of Upper-case characters: ', upper_count)\n",
    "print('No. of Lower-case Characters: ', lower_count)"
   ]
  }
 ],
 "metadata": {
  "kernelspec": {
   "display_name": "Python 3 (ipykernel)",
   "language": "python",
   "name": "python3"
  },
  "language_info": {
   "codemirror_mode": {
    "name": "ipython",
    "version": 3
   },
   "file_extension": ".py",
   "mimetype": "text/x-python",
   "name": "python",
   "nbconvert_exporter": "python",
   "pygments_lexer": "ipython3",
   "version": "3.7.16"
  }
 },
 "nbformat": 4,
 "nbformat_minor": 5
}
